{
 "cells": [
  {
   "cell_type": "code",
   "execution_count": 5,
   "id": "6f0a6537-c85d-4b8b-a895-ec13a94411a1",
   "metadata": {},
   "outputs": [],
   "source": [
    "from openai import OpenAI\n",
    "openai_client = OpenAI()"
   ]
  },
  {
   "cell_type": "code",
   "execution_count": 6,
   "id": "da80293d-a080-4581-97c9-1237d67af6cd",
   "metadata": {},
   "outputs": [],
   "source": [
    "import requests \n",
    "\n",
    "docs_url = 'https://github.com/alexeygrigorev/llm-rag-workshop/raw/main/notebooks/documents.json'\n",
    "docs_response = requests.get(docs_url)\n",
    "documents_raw = docs_response.json()\n",
    "\n",
    "documents = []\n",
    "\n",
    "for course in documents_raw:\n",
    "    course_name = course['course']\n",
    "\n",
    "    for doc in course['documents']:\n",
    "        doc['course'] = course_name\n",
    "        documents.append(doc)"
   ]
  },
  {
   "cell_type": "code",
   "execution_count": 7,
   "id": "abe58d10-ee81-42f7-8c78-9b06c52a44fa",
   "metadata": {},
   "outputs": [
    {
     "data": {
      "text/plain": [
       "<minsearch.append.AppendableIndex at 0x7433336b64e0>"
      ]
     },
     "execution_count": 7,
     "metadata": {},
     "output_type": "execute_result"
    }
   ],
   "source": [
    "from minsearch import AppendableIndex\n",
    "\n",
    "index = AppendableIndex(\n",
    "    text_fields=[\"question\", \"text\", \"section\"],\n",
    "    keyword_fields=[\"course\"]\n",
    ")\n",
    "\n",
    "index.fit(documents)"
   ]
  },
  {
   "cell_type": "code",
   "execution_count": 24,
   "id": "492ff3a2-0148-4808-a475-301f90a58f4d",
   "metadata": {},
   "outputs": [],
   "source": [
    "import json"
   ]
  },
  {
   "cell_type": "markdown",
   "id": "dbcf5a86-afb2-409c-b53c-517b7334c408",
   "metadata": {},
   "source": [
    "Traditional RAG:\n",
    "\n",
    "```python\n",
    "def rag(query):\n",
    "    search_results = search(query)\n",
    "    prompt = build_prompt(query, search_results)\n",
    "    answer = llm(prompt)\n",
    "    return answer\n",
    "```"
   ]
  },
  {
   "cell_type": "code",
   "execution_count": 4,
   "id": "b457c024-c7f6-443b-b784-da2e0e5e0c46",
   "metadata": {},
   "outputs": [],
   "source": [
    "def search(query):\n",
    "    boost = {'question': 3.0, 'section': 0.5}\n",
    "\n",
    "    results = index.search(\n",
    "        query=query,\n",
    "        filter_dict={'course': 'data-engineering-zoomcamp'},\n",
    "        boost_dict=boost,\n",
    "        num_results=5,\n",
    "    )\n",
    "\n",
    "    return results"
   ]
  },
  {
   "cell_type": "code",
   "execution_count": 38,
   "id": "f1e2d4df-673c-4ce9-9b9a-43811a748148",
   "metadata": {},
   "outputs": [],
   "source": [
    "def make_call(call):\n",
    "    args = json.loads(call.arguments)\n",
    "    f_name = call.name\n",
    "\n",
    "    if f_name == 'search':\n",
    "        result = search(**args)\n",
    "    else:\n",
    "        raise Error(f'unknown function {f_name}')\n",
    "\n",
    "    return {\n",
    "        \"type\": \"function_call_output\",\n",
    "        \"call_id\": call.call_id,\n",
    "        \"output\": json.dumps(result),\n",
    "    }"
   ]
  },
  {
   "cell_type": "code",
   "execution_count": 8,
   "id": "a7e21b6d-0a62-4061-8dc3-c863608dabcb",
   "metadata": {},
   "outputs": [],
   "source": [
    "search_tool = {\n",
    "    \"type\": \"function\",\n",
    "    \"name\": \"search\",\n",
    "    \"description\": \"Search the FAQ database\",\n",
    "    \"parameters\": {\n",
    "        \"type\": \"object\",\n",
    "        \"properties\": {\n",
    "            \"query\": {\n",
    "                \"type\": \"string\",\n",
    "                \"description\": \"Search query text to look up in the course FAQ.\"\n",
    "            }\n",
    "        },\n",
    "        \"required\": [\"query\"],\n",
    "        \"additionalProperties\": False\n",
    "    }\n",
    "}"
   ]
  },
  {
   "cell_type": "code",
   "execution_count": 13,
   "id": "9309e392-a1ce-409c-8522-978ea17480f9",
   "metadata": {},
   "outputs": [],
   "source": [
    "tools = [search_tool]"
   ]
  },
  {
   "cell_type": "code",
   "execution_count": 32,
   "id": "29aab607-cee3-499a-9f7f-17b59171c287",
   "metadata": {},
   "outputs": [],
   "source": [
    "instructions = \"\"\"\n",
    "You're a course teaching assistant. \n",
    "You're given a question from a course student and your task is to answer it.\n",
    "\n",
    "If you want to look up the answer, explain why before making the call\n",
    "\"\"\".strip()"
   ]
  },
  {
   "cell_type": "code",
   "execution_count": 46,
   "id": "34bb7eac-3ae6-4c09-8a20-fedca07aa3de",
   "metadata": {},
   "outputs": [],
   "source": [
    "question = 'I just discovered the course. Can I still join it?'\n",
    "\n",
    "chat_messages = [\n",
    "    {\"role\": \"developer\", \"content\": instructions},\n",
    "    {\"role\": \"user\", \"content\": question}\n",
    "]"
   ]
  },
  {
   "cell_type": "code",
   "execution_count": 47,
   "id": "4fd1b7ff-ce1f-45c0-ae4d-177b16db8e83",
   "metadata": {},
   "outputs": [
    {
     "name": "stdout",
     "output_type": "stream",
     "text": [
      "Assistant:\n",
      "To provide an accurate response, I'll check the FAQ database for information regarding enrollment deadlines or policies for new students who want to join the course. This will help ensure you receive the most relevant and specific information. I'll look that up now.\n",
      "\n",
      "function call\n",
      "     search {\"query\":\"join course enrollment deadlines\"}\n",
      "\n",
      "Assistant:\n",
      "Yes, you can still join the course, even if it's already started. You have the option to submit homeworks and continue engaging with course materials. However, keep in mind that there will be deadlines for final projects, so it's best not to leave everything until the last minute.\n",
      "\n",
      "For more information on specific deadlines and any updates, you can check the course's official documents or announcements.\n",
      "\n"
     ]
    }
   ],
   "source": [
    "while True: # the \"agent\" loop\n",
    "    response = openai_client.responses.create(\n",
    "        model='gpt-4o-mini',\n",
    "        input=chat_messages,\n",
    "        tools=tools\n",
    "    )\n",
    "    \n",
    "    has_function_calls = False\n",
    "    \n",
    "    chat_messages.extend(response.output)\n",
    "    \n",
    "    for item in response.output:\n",
    "        if item.type == 'message':\n",
    "            print('Assistant:')\n",
    "            print(item.content[0].text)\n",
    "            print()\n",
    "    \n",
    "        if item.type == 'function_call':\n",
    "            has_function_calls = True\n",
    "            print('function call')\n",
    "            print('    ', item.name, item.arguments)\n",
    "            print()\n",
    "            \n",
    "            function_call_output = make_call(item)\n",
    "            chat_messages.append(function_call_output)\n",
    "\n",
    "    if not has_function_calls:\n",
    "        break"
   ]
  },
  {
   "cell_type": "code",
   "execution_count": null,
   "id": "584161a4-b1ef-4391-9bcd-32660b3a4f9a",
   "metadata": {},
   "outputs": [],
   "source": []
  }
 ],
 "metadata": {
  "kernelspec": {
   "display_name": "Python 3 (ipykernel)",
   "language": "python",
   "name": "python3"
  },
  "language_info": {
   "codemirror_mode": {
    "name": "ipython",
    "version": 3
   },
   "file_extension": ".py",
   "mimetype": "text/x-python",
   "name": "python",
   "nbconvert_exporter": "python",
   "pygments_lexer": "ipython3",
   "version": "3.12.1"
  }
 },
 "nbformat": 4,
 "nbformat_minor": 5
}
