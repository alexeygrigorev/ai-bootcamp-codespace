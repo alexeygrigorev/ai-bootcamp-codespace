{
 "cells": [
  {
   "cell_type": "code",
   "execution_count": 68,
   "id": "51c7e844-987b-4906-8106-265724a9d736",
   "metadata": {},
   "outputs": [],
   "source": [
    "from openai import OpenAI\n",
    "\n",
    "openai_client = OpenAI()"
   ]
  },
  {
   "cell_type": "code",
   "execution_count": 69,
   "id": "8fd39921-1386-4ce6-b55a-820cef44e871",
   "metadata": {},
   "outputs": [],
   "source": [
    "def llm(user_prompt, instructions=None, model=\"gpt-4o-mini\"):\n",
    "    messages = []\n",
    "\n",
    "    if instructions:\n",
    "        messages.append({\n",
    "            \"role\": \"system\",\n",
    "            \"content\": instructions\n",
    "        })\n",
    "\n",
    "    messages.append({\n",
    "        \"role\": \"user\",\n",
    "        \"content\": user_prompt\n",
    "    })\n",
    "\n",
    "    response = openai_client.responses.create(\n",
    "        model=model,\n",
    "        input=messages\n",
    "    )\n",
    "\n",
    "    return response.output_text"
   ]
  },
  {
   "cell_type": "code",
   "execution_count": 71,
   "id": "1f970248-49d4-4bef-8dbe-37ba82e28a38",
   "metadata": {},
   "outputs": [],
   "source": [
    "from youtube_transcript_api import YouTubeTranscriptApi"
   ]
  },
  {
   "cell_type": "code",
   "execution_count": null,
   "id": "698212a4-2435-4f19-be11-418a90ac38ae",
   "metadata": {},
   "outputs": [],
   "source": [
    "video_id = 'ph1PxZIkz1o'\n",
    "ytt_api = YouTubeTranscriptApi()\n",
    "transcript = ytt_api.fetch(video_id)"
   ]
  },
  {
   "cell_type": "code",
   "execution_count": 75,
   "id": "e9aff4ec-6bc7-4a27-8273-25c0ddac97dd",
   "metadata": {},
   "outputs": [],
   "source": [
    "import pickle"
   ]
  },
  {
   "cell_type": "code",
   "execution_count": 76,
   "id": "69a98897-1525-4ae3-9d65-2b0da43c6472",
   "metadata": {},
   "outputs": [],
   "source": [
    "with open(f'{video_id}.bin', 'rb') as f_in:\n",
    "    transcript = pickle.load(f_in)"
   ]
  },
  {
   "cell_type": "code",
   "execution_count": 77,
   "id": "0e5fd1af-3fe4-4b84-a816-8788fa413224",
   "metadata": {},
   "outputs": [
    {
     "data": {
      "text/plain": [
       "[FetchedTranscriptSnippet(text='So hi everyone. Uh today we are going to', start=0.0, duration=5.04),\n",
       " FetchedTranscriptSnippet(text='talk about our upcoming course. The', start=2.96, duration=3.52),\n",
       " FetchedTranscriptSnippet(text='upcoming course is called machine', start=5.04, duration=5.92),\n",
       " FetchedTranscriptSnippet(text='learning zoom camp. And um this is', start=6.48, duration=5.92),\n",
       " FetchedTranscriptSnippet(text='already I put the link in the', start=10.96, duration=3.599),\n",
       " FetchedTranscriptSnippet(text=\"description. So if you're watching um\", start=12.4, duration=4.719),\n",
       " FetchedTranscriptSnippet(text=\"this video in recording or you're\", start=14.559, duration=4.88),\n",
       " FetchedTranscriptSnippet(text='watching it live, you go here in the', start=17.119, duration=4.561),\n",
       " FetchedTranscriptSnippet(text='description after under this video and', start=19.439, duration=5.6),\n",
       " FetchedTranscriptSnippet(text='then you see a link course. uh click on', start=21.68, duration=6.24)]"
      ]
     },
     "execution_count": 77,
     "metadata": {},
     "output_type": "execute_result"
    }
   ],
   "source": [
    "transcript[:10]"
   ]
  },
  {
   "cell_type": "code",
   "execution_count": 83,
   "id": "3ed1bf69-a8ef-426c-a58e-a78a770e48bc",
   "metadata": {},
   "outputs": [],
   "source": [
    "def format_timestamp(seconds: float) -> str:\n",
    "    \"\"\"Convert seconds to H:MM:SS if > 1 hour, else M:SS\"\"\"\n",
    "    total_seconds = int(seconds)\n",
    "    hours, remainder = divmod(total_seconds, 3600)\n",
    "    minutes, secs = divmod(remainder, 60)\n",
    "\n",
    "    if hours > 0:\n",
    "        return f\"{hours}:{minutes:02}:{secs:02}\"\n",
    "    else:\n",
    "        return f\"{minutes}:{secs:02}\"\n",
    "\n",
    "def make_subtitles(transcript) -> str:\n",
    "    lines = []\n",
    "\n",
    "    for entry in transcript:\n",
    "        ts = format_timestamp(entry.start)\n",
    "        text = entry.text.replace('\\n', ' ')\n",
    "        lines.append(ts + ' ' + text)\n",
    "\n",
    "    return '\\n'.join(lines)"
   ]
  },
  {
   "cell_type": "code",
   "execution_count": 84,
   "id": "b5410581-7059-4311-8b3e-868c38d15980",
   "metadata": {},
   "outputs": [],
   "source": [
    "subtitles = make_subtitles(transcript)"
   ]
  },
  {
   "cell_type": "code",
   "execution_count": 85,
   "id": "6c674350-f091-4173-b47e-29645e0fb0bd",
   "metadata": {},
   "outputs": [
    {
     "name": "stdout",
     "output_type": "stream",
     "text": [
      "0:00 So hi everyone. Uh today we are going to\n",
      "0:02 talk about our upcoming course. The\n",
      "0:05 upcoming course is called machine\n",
      "0:06 learning zoom camp. And um this is\n",
      "0:10 already I put the link in the\n",
      "0:12 description. So if you're watching um\n",
      "0:14 this video in recording or you're\n",
      "0:17 watching it live, you go here in the\n",
      "0:19 description after under this video and\n",
      "0:21 then you see a link course. uh click on\n",
      "0:25 that link and this bring you will bring\n",
      "0:27 you to\n",
      "0:29 this website this GitHub\n"
     ]
    }
   ],
   "source": [
    "print(subtitles[:500])"
   ]
  },
  {
   "cell_type": "code",
   "execution_count": 91,
   "id": "9bbfa2a8-dc42-4dd6-9a75-33909f5917e4",
   "metadata": {},
   "outputs": [],
   "source": [
    "instructions = \"\"\"\n",
    "Summarize the transcript and describe the main purpose of the video\n",
    "and the main ideas. \n",
    "\n",
    "Also output chapters with time. Use usual sentence case, not Title Case for the chapter.\n",
    "\n",
    "Output format: \n",
    "\n",
    "<OUTPUT>\n",
    "Summary\n",
    "\n",
    "timestamp chapter \n",
    "timestamp chapter\n",
    "...\n",
    "timestamp chapter\n",
    "</OUTPUT>\n",
    "\n",
    "Don't include <OUTPUT> in the output\n",
    "\"\"\""
   ]
  },
  {
   "cell_type": "code",
   "execution_count": 92,
   "id": "95109e26-2aaa-4ee9-abf6-7fe462e7840e",
   "metadata": {},
   "outputs": [],
   "source": [
    "answer = llm(subtitles, instructions=instructions)"
   ]
  },
  {
   "cell_type": "code",
   "execution_count": 94,
   "id": "50924ccb-5b55-472e-9206-ba5191203c17",
   "metadata": {},
   "outputs": [],
   "source": [
    "from pydantic import BaseModel"
   ]
  },
  {
   "cell_type": "code",
   "execution_count": 95,
   "id": "53f291d2-ffb7-4053-bc36-593e10669571",
   "metadata": {},
   "outputs": [],
   "source": [
    "class Chapter(BaseModel):\n",
    "    timestamp: str\n",
    "    title: str\n",
    "\n",
    "class YTSummaryResponse(BaseModel):\n",
    "    summary: str\n",
    "    chapters: list[Chapter]\n"
   ]
  },
  {
   "cell_type": "code",
   "execution_count": 96,
   "id": "306c45e3-6378-47ea-90ce-5bdcbead209c",
   "metadata": {},
   "outputs": [],
   "source": [
    "def llm_structured(instructions, user_prompt, output_type, model=\"gpt-4o-mini\"):\n",
    "    messages = [\n",
    "        {\"role\": \"system\", \"content\": instructions},\n",
    "        {\"role\": \"user\", \"content\": user_prompt}\n",
    "    ]\n",
    "\n",
    "    response = openai_client.responses.parse(\n",
    "        model=model,\n",
    "        input=messages,\n",
    "        text_format=output_type\n",
    "    )\n",
    "\n",
    "    return response.output_parsed"
   ]
  },
  {
   "cell_type": "code",
   "execution_count": 98,
   "id": "656a095a-8f8d-4a99-9124-ba840c71af79",
   "metadata": {},
   "outputs": [],
   "source": [
    "summary = llm_structured(\n",
    "    instructions=instructions,\n",
    "    user_prompt=subtitles,\n",
    "    output_type=YTSummaryResponse\n",
    ")"
   ]
  },
  {
   "cell_type": "code",
   "execution_count": 102,
   "id": "3eab6270-f05e-46fe-b3c9-1fa20d222db5",
   "metadata": {},
   "outputs": [
    {
     "name": "stdout",
     "output_type": "stream",
     "text": [
      "The video discusses the upcoming 'Machine Learning Zoom Camp', a course designed primarily for aspiring machine learning engineers and data scientists. It provides details about course structure, prerequisites, and the skills covered. Key topics include the course's focus on machine learning engineering rather than data science, updates to existing content, and the emphasis on practical skills necessary for job readiness. Viewers are encouraged to ask questions throughout the livestream, fostering an interactive environment. Additionally, the series will feature three projects required for getting a certificate. Information on the use of external resources and tools, like GitHub Codespaces, and the significance of hands-on learning through projects are heavily emphasized.\n",
      "\n",
      "0:00 Introduction to the course\n",
      "0:55 Course registration details\n",
      "1:56 Course updates and content structure\n",
      "3:40 Job placement opportunities\n",
      "5:15 Overview of computer vision content\n",
      "6:06 Prerequisites for the course\n",
      "11:11 Programming experience requirements\n",
      "13:46 Focus on ML engineering vs data science\n",
      "14:56 Course companion book\n",
      "17:03 Workstation requirements\n",
      "20:18 Using AI tools like ChatGPT\n",
      "21:38 ML jobs and their relevance\n",
      "23:32 Course suitability for data engineers\n",
      "26:20 Project-based learning and assessments\n",
      "29:54 Homework and deadlines\n",
      "30:28 Course platform and interactions\n",
      "34:54 Course evaluation and peer reviews\n",
      "36:38 Certificates and credentials\n",
      "37:25 Managing course workload\n",
      "39:58 Utilizing cloud for deployment\n",
      "43:10 Feedback and monitoring in the course\n",
      "46:30 Final thoughts and course appeal\n"
     ]
    }
   ],
   "source": [
    "print(summary.summary)\n",
    "print()\n",
    "for c in summary.chapters:\n",
    "    print(c.timestamp, c.title)"
   ]
  },
  {
   "cell_type": "markdown",
   "id": "a8b25511-7e85-4863-b044-52616159a978",
   "metadata": {},
   "source": [
    "## RAG"
   ]
  },
  {
   "cell_type": "code",
   "execution_count": 48,
   "id": "d37d9e6a-18f7-4d30-89bf-55f42ebae8c9",
   "metadata": {},
   "outputs": [
    {
     "name": "stdout",
     "output_type": "stream",
     "text": [
      "0:00 So hi everyone. Uh today we are going to\n",
      "0:02 talk about our upcoming course. The\n",
      "0:05 upcoming course is called machine\n",
      "0:06 learning zoom camp. And um this is\n",
      "0:10 already I put the link in the\n",
      "0:12 description. So if you're watching um\n",
      "0:14 this video in recording or you're\n",
      "0:17 watching it live, you go here in the\n",
      "0:19 description after under this video and\n",
      "0:21 then you see a link course. uh click on\n",
      "0:25 that link and this bring you will bring\n",
      "0:27 you to\n",
      "0:29 this website this GitHub page.\n",
      "0:34 This GitHub page is the main entry point\n",
      "0:36 to our course and um yeah I think it's\n",
      "0:41 more or less self-explanatory. If you\n",
      "0:43 want to sign up this is the button you\n",
      "0:45 click and the actual course starts in on\n",
      "0:48 September 15th. it means that it's uh\n",
      "0:51 slightly less than one one month before\n",
      "0:53 the course starts and the purpose of\n",
      "0:55 today's um session is to just answer\n",
      "0:58 your questions. So you have some\n",
      "1:00 questions and uh you can ask these\n",
      "1:03 questions using\n"
     ]
    }
   ],
   "source": [
    "print(subtitles[:1000])"
   ]
  },
  {
   "cell_type": "code",
   "execution_count": 50,
   "id": "435791e0-ff3f-438e-a4b8-3accc367ef5f",
   "metadata": {},
   "outputs": [],
   "source": [
    "def sliding_window(seq, size, step):\n",
    "    \"\"\"Create overlapping chunks using sliding window approach.\"\"\"\n",
    "    if size <= 0 or step <= 0:\n",
    "        raise ValueError(\"size and step must be positive\")\n",
    "\n",
    "    n = len(seq)\n",
    "    result = []\n",
    "\n",
    "    for i in range(0, n, step):\n",
    "        batch = seq[i:i+size]\n",
    "        result.append(batch)\n",
    "        if i + size >= n:\n",
    "            break\n",
    "\n",
    "    return result"
   ]
  },
  {
   "cell_type": "code",
   "execution_count": 55,
   "id": "36c16141-08c8-43bd-8dfe-ff99eaf62cef",
   "metadata": {},
   "outputs": [],
   "source": [
    "chunk = transcript[:10]"
   ]
  },
  {
   "cell_type": "code",
   "execution_count": 57,
   "id": "ddd3d0b7-f79a-4117-8265-95ddc2ab51ab",
   "metadata": {},
   "outputs": [],
   "source": [
    "def join_lines(transcript) -> str:\n",
    "    \"\"\"Join transcript entries into continuous text.\"\"\"\n",
    "    lines = []\n",
    "\n",
    "    for entry in transcript:\n",
    "        text = entry.text.replace('\\n', ' ')\n",
    "        lines.append(text)\n",
    "\n",
    "    return ' '.join(lines)\n",
    "\n",
    "\n",
    "def format_chunk(chunk):\n",
    "    \"\"\"Format a chunk with start/end timestamps and text.\"\"\"\n",
    "    time_start = format_timestamp(chunk[0].start)\n",
    "    time_end = format_timestamp(chunk[-1].start)\n",
    "    text = join_lines(chunk)\n",
    "\n",
    "    return {\n",
    "        'start': time_start,\n",
    "        'end': time_end,\n",
    "        'text': text\n",
    "    }"
   ]
  },
  {
   "cell_type": "code",
   "execution_count": 61,
   "id": "f54142af-0d8a-4860-8213-2a4298c6a781",
   "metadata": {
    "scrolled": true
   },
   "outputs": [
    {
     "name": "stdout",
     "output_type": "stream",
     "text": [
      "Created 46 chunks\n"
     ]
    }
   ],
   "source": [
    "chunks = []\n",
    "\n",
    "for chunk in sliding_window(transcript, 60, 30):\n",
    "    processed = format_chunk(chunk)\n",
    "    chunks.append(processed)"
   ]
  },
  {
   "cell_type": "code",
   "execution_count": 62,
   "id": "68290e7a-b5b4-4a70-a315-4d7e6a66eaa6",
   "metadata": {},
   "outputs": [
    {
     "name": "stdout",
     "output_type": "stream",
     "text": [
      "Created 46 chunks\n"
     ]
    }
   ],
   "source": [
    "print(f\"Created {len(chunks)} chunks\")"
   ]
  },
  {
   "cell_type": "code",
   "execution_count": 64,
   "id": "435dab95-629b-4649-9041-28116e37253d",
   "metadata": {},
   "outputs": [
    {
     "data": {
      "text/plain": [
       "<minsearch.minsearch.Index at 0x7b5028f730b0>"
      ]
     },
     "execution_count": 64,
     "metadata": {},
     "output_type": "execute_result"
    }
   ],
   "source": [
    "from minsearch import Index\n",
    "\n",
    "index = Index(text_fields=[\"text\"])\n",
    "index.fit(chunks)"
   ]
  },
  {
   "cell_type": "code",
   "execution_count": 67,
   "id": "fd9d0415-982d-45df-90a0-7cc7b9f23486",
   "metadata": {},
   "outputs": [],
   "source": [
    "results = index.search('Can I find a job after the course?', num_results=5)"
   ]
  },
  {
   "cell_type": "code",
   "execution_count": 66,
   "id": "af249f3e-e105-4bdd-b3f3-1416d1250f83",
   "metadata": {},
   "outputs": [
    {
     "data": {
      "text/plain": [
       "[{'start': '52:34',\n",
       "  'end': '55:07',\n",
       "  'text': \"project I submitted was a fake course project. So there was nothing that's why I didn't get any points. Uh the reason I got uh nine uh is uh cuz I evaluated other peers. So that's why um like for each evalation I get three points. But this is how it's done. So the we evaluate projects by doing peer review and peer review is mandatory to complete the project. So if you submit a project but you don't do peer reviewing you fail the project and if you fail a project you fail the course. Right? So this very important to do peer reviews. Uh will the course make one job ready? Yes. If you put effort in the the the course and if you make a good project, if you also follow our recommendations to learn in public, this will definitely make you job ready. Uh what's the next path to follow after the completing the course? Uh to step into advanced stuff, find a job. That's the best way. Um cuz you can do courses forever, but I think you need to work on projects. This is where the real experience comes from. So you need to find something that is a job. Maybe at the beginning could be difficult but then find a volunteering job. I don't know there are so many places where you can volunteer. So put your skills into practice and then by doing this you will again do this project based learning that I um talked about and then it will force you to learn new things in order to solve a problem you have and then you build a portfolio of things and then it will make you even more job ready. Um yeah so I wouldn't recommend taking another course of course you can do a melops course that we have you can find a lot of courses like we have this page yeah wait no not this one 23 free online courses on machine learning so there are a lot of courses not just our course there are so many other courses but um I wouldn't recommend to spend too much time on learning things I would just say I mean on learning through courses. Courses are useful and important and for me personally courses were super helpful in my career but just don't do don't do just courses right so I would suggest to start involve being involved in different projects as soon as possible. Um you said the course videos are pre-recorded so the ones already available on the platform they will be\"},\n",
       " {'start': '51:23',\n",
       "  'end': '53:52',\n",
       "  'text': \"sometimes you need to put something um but more often than not it's multiple choice questions. So you just uh do what we ask. So here this is how homeworks looks like. So you just need to install pandas and then we ask what is the version or uh you get some data and you need count records or uh do some exploratory data analysis in this particular case right and then you submit these things and because there is only one or two correct answers. This is graded automatically but we try to make this homeworks interesting enough so it's interesting for you and easier for us to grade. Right? So that's um when it comes to homeworks or uh midterm projects you need to evaluate u so you you deliver a project. So there are some criteria you need to satisfy. So these are the criteria problem description exploratory data analysis model training and so on. And then you also need to evaluate your peers and then at the end you get a report. So some Peters some of the peers they say um they give you feedback. So this is the feedback I got but the project I submitted was a fake course project. So there was nothing that's why I didn't get any points. Uh the reason I got uh nine uh is uh cuz I evaluated other peers. So that's why um like for each evalation I get three points. But this is how it's done. So the we evaluate projects by doing peer review and peer review is mandatory to complete the project. So if you submit a project but you don't do peer reviewing you fail the project and if you fail a project you fail the course. Right? So this very important to do peer reviews. Uh will the course make one job ready? Yes. If you put effort in the the the course and if you make a good project, if you also follow our recommendations to learn in public, this will definitely make you job ready. Uh what's the next path to follow after the completing the course? Uh to step into advanced stuff, find a job. That's the best way. Um cuz you can do courses forever, but I think you need to work on projects. This is where the real experience comes from. So you need to find something that is a job. Maybe at the beginning could be difficult but then find a volunteering job. I don't know there are so many\"},\n",
       " {'start': '1:21',\n",
       "  'end': '3:49',\n",
       "  'text': \"thing. So we can also go to SLO and use ML Zoom camp and I'm going to use that for answering questions. Uh one thing though, so before we start, I just wanted to mention that um this course has been running for uh this will be the fifth edition of this course. So we've been doing this course for quite some time. Many people already graduated from this course and um most of the content we use here is the content I uh recorded like four years ago but we are updating the content so cuz u back then everyone was using Python 3.8 eight or nine something like. So yeah, we are re-recording some of the things in particular. Module one, two, three, four will uh stay the same cuz uh this uh these are the fundamentals. They didn't change. But module five we uh will update. Module 6 will stay the same. Module 8 we will update. Module 9 update update. And this we will not include like we only include it once and this thing get outdated very fast. So we just I just didn't bother updating this at all and it's pretty advanced material. So we will update like four out of 10 modules. So that's the plan. Uh and we already had some workshops for this. Anyways um you have some questions and these questions you use slido for asking these questions and let's get started. Um Alexi question is there a chance of job placement after the program? How deep are we going into computer vision and rock? Okay, so there are three questions actually here. Uh chance of job placement. So we do not provide you job placement. So we are not recruiters. We just teach this uh and we are not a boot camp where you pay money. Right? So this is a free boot camp and our resources are limited. So we cannot really uh do this for you. That said, many of many course participants who took this course in the past successfully found the job. So this is this is going to be the fifth time we are hosting this. So yeah, many many people have graduated from this course and many people found the jobs. So yes, there is a high chance to find a job placement after the program because the teach we the skills we teach here the skills we cover here they are the most important skills for a machine learning engineer. So first we focus on the machine learning part where\"},\n",
       " {'start': '2:41',\n",
       "  'end': '5:10',\n",
       "  'text': \"this. Anyways um you have some questions and these questions you use slido for asking these questions and let's get started. Um Alexi question is there a chance of job placement after the program? How deep are we going into computer vision and rock? Okay, so there are three questions actually here. Uh chance of job placement. So we do not provide you job placement. So we are not recruiters. We just teach this uh and we are not a boot camp where you pay money. Right? So this is a free boot camp and our resources are limited. So we cannot really uh do this for you. That said, many of many course participants who took this course in the past successfully found the job. So this is this is going to be the fifth time we are hosting this. So yeah, many many people have graduated from this course and many people found the jobs. So yes, there is a high chance to find a job placement after the program because the teach we the skills we teach here the skills we cover here they are the most important skills for a machine learning engineer. So first we focus on the machine learning part where we cover scikitlearn um like simplest model models and then we go deeper on the deployment side. So this is the area where many data scientists um don't know or not they know but like maybe this is their weak areas. So this is we we're going a little deeper in this side. That's why it's more like an engineering program, ML engineering program. And with these skills, usually people don't have any problems finding a job. How deep are we going into computer vision and rack? Okay. So we don't go deep into computer vision. We have one module on deep learning and in this deep learning module we uh do we build an image classifier. So this is a model that can classify different types of clothes into images of of clothes into 10 different categories like pants, like shirts, like t-shirts, stuff like that. So this is as uh deep as we go to computer vision. So that's only one module about that. And we also talk about deploying neural networks. So in the serverless model we talked about how okay you have a model how to deploy it and by the way speaking of the deep learning model uh previously we used tensorflow so we are going to\"},\n",
       " {'start': '33:18',\n",
       "  'end': '36:03',\n",
       "  'text': \"then you interact with others in Slack. Uh, yeah, I think I just answered that. Is it best to use a Kaggle data set or to find one ourselves? Is it a question about the project? Um, like Kaggle is a good platform for data sets, but it's not the only source. You can find data sets in other places too. So, It doesn't matter actually. I answered that question. Would you do a data science to camp? No. Uh I mean this one is kind of data scienceish cuz uh if we look at the syllabus, we have uh one, two, three, four, five, six modules. Did I correctly? One, two, three, four, five, six. Yeah, six modules or seven uh that are about data science. I think that's enough. Yeah, I don't see a point in creating another course just for that. So, it will be like the same material. Uh will we will we deploy ML models locally or use remote environment both? Um actually for the course uh for the project of the course you will get extra point if you deploy to the cloud uh but also I know some of you cannot um for whatever reasons um do the cloud thing then you can just deploy locally you will just get fewer points but we do show how to deploy to the cloud not just locally. I am a data engineer and I want to become a male engineer. Will this course help? If yes, how much? Yes, it will. Um, I don't know how to answer the second like very much. Yeah, well, it will help you. Yeah. Um, what is the better job for the future? Data engineer, data scientist or how do you measure better like um um the way I would rephrase it, what is the better job for me in the future? Do I enjoy doing data engineering, data science or machine learning? So once you have the answer then you have the answer for this question cuz the the point is to do what you enjoy most like if let's say somebody says oh yeah data engineers are more in more demand cuz there are more vacancies but then you hate data engineering you don't like it like so does it mean you have to do it or maybe there are fewer ML engineering jobs but you just like it more so then just go with this so yeah and then who knows maybe AI will\"}]"
      ]
     },
     "execution_count": 66,
     "metadata": {},
     "output_type": "execute_result"
    }
   ],
   "source": [
    "results"
   ]
  },
  {
   "cell_type": "code",
   "execution_count": null,
   "id": "6ae543ec-0809-4352-8364-e8f55d7313ef",
   "metadata": {},
   "outputs": [],
   "source": []
  }
 ],
 "metadata": {
  "kernelspec": {
   "display_name": "Python 3 (ipykernel)",
   "language": "python",
   "name": "python3"
  },
  "language_info": {
   "codemirror_mode": {
    "name": "ipython",
    "version": 3
   },
   "file_extension": ".py",
   "mimetype": "text/x-python",
   "name": "python",
   "nbconvert_exporter": "python",
   "pygments_lexer": "ipython3",
   "version": "3.12.1"
  }
 },
 "nbformat": 4,
 "nbformat_minor": 5
}
