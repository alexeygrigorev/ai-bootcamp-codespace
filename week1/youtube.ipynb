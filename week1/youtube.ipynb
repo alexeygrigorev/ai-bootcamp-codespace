{
 "cells": [
  {
   "cell_type": "code",
   "execution_count": 2,
   "id": "8fd39921-1386-4ce6-b55a-820cef44e871",
   "metadata": {},
   "outputs": [],
   "source": [
    "from openai import OpenAI\n",
    "\n",
    "openai_client = OpenAI()\n",
    "\n",
    "def llm(user_prompt, instructions=None, model=\"gpt-4o-mini\"):\n",
    "    messages = []\n",
    "\n",
    "    if instructions:\n",
    "        messages.append({\n",
    "            \"role\": \"system\",\n",
    "            \"content\": instructions\n",
    "        })\n",
    "\n",
    "    messages.append({\n",
    "        \"role\": \"user\",\n",
    "        \"content\": user_prompt\n",
    "    })\n",
    "\n",
    "    response = openai_client.responses.create(\n",
    "        model=model,\n",
    "        input=messages\n",
    "    )\n",
    "\n",
    "    return response.output_text"
   ]
  },
  {
   "cell_type": "code",
   "execution_count": 3,
   "id": "1f970248-49d4-4bef-8dbe-37ba82e28a38",
   "metadata": {},
   "outputs": [],
   "source": [
    "from youtube_transcript_api import YouTubeTranscriptApi"
   ]
  },
  {
   "cell_type": "code",
   "execution_count": 6,
   "id": "f6dddc03-f19d-495f-af8f-681b1f6cdb86",
   "metadata": {},
   "outputs": [],
   "source": [
    "video_id = 'ph1PxZIkz1o'"
   ]
  },
  {
   "cell_type": "code",
   "execution_count": null,
   "id": "698212a4-2435-4f19-be11-418a90ac38ae",
   "metadata": {},
   "outputs": [],
   "source": [
    "ytt_api = YouTubeTranscriptApi()\n",
    "transcript = ytt_api.fetch(video_id)"
   ]
  },
  {
   "cell_type": "code",
   "execution_count": 7,
   "id": "e9aff4ec-6bc7-4a27-8273-25c0ddac97dd",
   "metadata": {},
   "outputs": [],
   "source": [
    "import pickle"
   ]
  },
  {
   "cell_type": "code",
   "execution_count": 8,
   "id": "69a98897-1525-4ae3-9d65-2b0da43c6472",
   "metadata": {},
   "outputs": [],
   "source": [
    "with open(f'{video_id}.bin', 'rb') as f_in:\n",
    "    transcript = pickle.load(f_in)"
   ]
  },
  {
   "cell_type": "code",
   "execution_count": 9,
   "id": "0e5fd1af-3fe4-4b84-a816-8788fa413224",
   "metadata": {},
   "outputs": [
    {
     "data": {
      "text/plain": [
       "[FetchedTranscriptSnippet(text='So hi everyone. Uh today we are going to', start=0.0, duration=5.04),\n",
       " FetchedTranscriptSnippet(text='talk about our upcoming course. The', start=2.96, duration=3.52),\n",
       " FetchedTranscriptSnippet(text='upcoming course is called machine', start=5.04, duration=5.92),\n",
       " FetchedTranscriptSnippet(text='learning zoom camp. And um this is', start=6.48, duration=5.92),\n",
       " FetchedTranscriptSnippet(text='already I put the link in the', start=10.96, duration=3.599),\n",
       " FetchedTranscriptSnippet(text=\"description. So if you're watching um\", start=12.4, duration=4.719),\n",
       " FetchedTranscriptSnippet(text=\"this video in recording or you're\", start=14.559, duration=4.88),\n",
       " FetchedTranscriptSnippet(text='watching it live, you go here in the', start=17.119, duration=4.561),\n",
       " FetchedTranscriptSnippet(text='description after under this video and', start=19.439, duration=5.6),\n",
       " FetchedTranscriptSnippet(text='then you see a link course. uh click on', start=21.68, duration=6.24)]"
      ]
     },
     "execution_count": 9,
     "metadata": {},
     "output_type": "execute_result"
    }
   ],
   "source": [
    "transcript[:10]"
   ]
  },
  {
   "cell_type": "code",
   "execution_count": 10,
   "id": "3ed1bf69-a8ef-426c-a58e-a78a770e48bc",
   "metadata": {},
   "outputs": [],
   "source": [
    "def format_timestamp(seconds: float) -> str:\n",
    "    \"\"\"Convert seconds to H:MM:SS if > 1 hour, else M:SS\"\"\"\n",
    "    total_seconds = int(seconds)\n",
    "    hours, remainder = divmod(total_seconds, 3600)\n",
    "    minutes, secs = divmod(remainder, 60)\n",
    "\n",
    "    if hours > 0:\n",
    "        return f\"{hours}:{minutes:02}:{secs:02}\"\n",
    "    else:\n",
    "        return f\"{minutes}:{secs:02}\"\n",
    "\n",
    "def make_subtitles(transcript) -> str:\n",
    "    lines = []\n",
    "\n",
    "    for entry in transcript:\n",
    "        ts = format_timestamp(entry.start)\n",
    "        text = entry.text.replace('\\n', ' ')\n",
    "        lines.append(ts + ' ' + text)\n",
    "\n",
    "    return '\\n'.join(lines)"
   ]
  },
  {
   "cell_type": "code",
   "execution_count": 11,
   "id": "b5410581-7059-4311-8b3e-868c38d15980",
   "metadata": {},
   "outputs": [],
   "source": [
    "subtitles = make_subtitles(transcript)"
   ]
  },
  {
   "cell_type": "code",
   "execution_count": 12,
   "id": "6c674350-f091-4173-b47e-29645e0fb0bd",
   "metadata": {},
   "outputs": [
    {
     "name": "stdout",
     "output_type": "stream",
     "text": [
      "0:00 So hi everyone. Uh today we are going to\n",
      "0:02 talk about our upcoming course. The\n",
      "0:05 upcoming course is called machine\n",
      "0:06 learning zoom camp. And um this is\n",
      "0:10 already I put the link in the\n",
      "0:12 description. So if you're watching um\n",
      "0:14 this video in recording or you're\n",
      "0:17 watching it live, you go here in the\n",
      "0:19 description after under this video and\n",
      "0:21 then you see a link course. uh click on\n",
      "0:25 that link and this bring you will bring\n",
      "0:27 you to\n",
      "0:29 this website this GitHub\n"
     ]
    }
   ],
   "source": [
    "print(subtitles[:500])"
   ]
  },
  {
   "cell_type": "code",
   "execution_count": 13,
   "id": "9bbfa2a8-dc42-4dd6-9a75-33909f5917e4",
   "metadata": {},
   "outputs": [],
   "source": [
    "instructions = \"\"\"\n",
    "Summarize the transcript and describe the main purpose of the video\n",
    "and the main ideas. \n",
    "\n",
    "Also output chapters with time. Use usual sentence case, not Title Case for the chapter.\n",
    "\n",
    "Output format: \n",
    "\n",
    "<OUTPUT>\n",
    "Summary\n",
    "\n",
    "timestamp chapter \n",
    "timestamp chapter\n",
    "...\n",
    "timestamp chapter\n",
    "</OUTPUT>\n",
    "\n",
    "Don't include <OUTPUT> in the output\n",
    "\"\"\""
   ]
  },
  {
   "cell_type": "code",
   "execution_count": 14,
   "id": "95109e26-2aaa-4ee9-abf6-7fe462e7840e",
   "metadata": {},
   "outputs": [],
   "source": [
    "answer = llm(subtitles, instructions=instructions)"
   ]
  },
  {
   "cell_type": "code",
   "execution_count": 15,
   "id": "50924ccb-5b55-472e-9206-ba5191203c17",
   "metadata": {},
   "outputs": [],
   "source": [
    "from pydantic import BaseModel"
   ]
  },
  {
   "cell_type": "code",
   "execution_count": 16,
   "id": "53f291d2-ffb7-4053-bc36-593e10669571",
   "metadata": {},
   "outputs": [],
   "source": [
    "class Chapter(BaseModel):\n",
    "    timestamp: str\n",
    "    title: str\n",
    "\n",
    "class YTSummaryResponse(BaseModel):\n",
    "    summary: str\n",
    "    chapters: list[Chapter]\n"
   ]
  },
  {
   "cell_type": "code",
   "execution_count": 17,
   "id": "306c45e3-6378-47ea-90ce-5bdcbead209c",
   "metadata": {},
   "outputs": [],
   "source": [
    "def llm_structured(instructions, user_prompt, output_type, model=\"gpt-4o-mini\"):\n",
    "    messages = [\n",
    "        {\"role\": \"system\", \"content\": instructions},\n",
    "        {\"role\": \"user\", \"content\": user_prompt}\n",
    "    ]\n",
    "\n",
    "    response = openai_client.responses.parse(\n",
    "        model=model,\n",
    "        input=messages,\n",
    "        text_format=output_type\n",
    "    )\n",
    "\n",
    "    return response.output_parsed"
   ]
  },
  {
   "cell_type": "code",
   "execution_count": 18,
   "id": "656a095a-8f8d-4a99-9124-ba840c71af79",
   "metadata": {},
   "outputs": [],
   "source": [
    "summary = llm_structured(\n",
    "    instructions=instructions,\n",
    "    user_prompt=subtitles,\n",
    "    output_type=YTSummaryResponse\n",
    ")"
   ]
  },
  {
   "cell_type": "code",
   "execution_count": 19,
   "id": "3eab6270-f05e-46fe-b3c9-1fa20d222db5",
   "metadata": {},
   "outputs": [
    {
     "name": "stdout",
     "output_type": "stream",
     "text": [
      "This video outlines the upcoming 'Machine Learning Zoom Camp' course, which starts on September 15th. The course focuses on teaching machine learning engineering skills rather than data science, covering foundational topics and providing updates to existing modules. It aims to prepare participants for entry-level roles in machine learning. The host addresses common questions regarding job placement, prerequisites, course expectations, and the overall structure of the program, emphasizing the importance of practical coding experience, deployment skills, and real-world applications. Participants are encouraged to engage with community resources and ask questions during the live sessions.\n",
      "\n",
      "0:00 Introduction to machine learning zoom camp\n",
      "0:51 Course details and structure\n",
      "2:38 Updates on course content\n",
      "3:50 Job placement and participant success\n",
      "4:57 Computer vision coverage in the course\n",
      "6:06 Prerequisites for attending the course\n",
      "8:33 Week structure and expectations\n",
      "10:30 Using chat GPT for learning support\n",
      "12:12 Different roles and focus of the course\n",
      "13:04 Companion book recommendations\n",
      "15:19 Mathematical prerequisites for machine learning\n",
      "17:12 Required hardware and computing environment\n",
      "18:41 Projects and portfolio building\n",
      "23:02 Course completion certificate\n",
      "26:57 Post-course recommendations\n",
      "31:36 Support and community interactions\n",
      "36:55 Next steps after this course\n",
      "40:01 Course deadlines and assignments\n",
      "43:57 Ending remarks and future sessions\n"
     ]
    }
   ],
   "source": [
    "print(summary.summary)\n",
    "print()\n",
    "for c in summary.chapters:\n",
    "    print(c.timestamp, c.title)"
   ]
  },
  {
   "cell_type": "markdown",
   "id": "a8b25511-7e85-4863-b044-52616159a978",
   "metadata": {},
   "source": [
    "## RAG"
   ]
  },
  {
   "cell_type": "code",
   "execution_count": 20,
   "id": "d37d9e6a-18f7-4d30-89bf-55f42ebae8c9",
   "metadata": {},
   "outputs": [
    {
     "name": "stdout",
     "output_type": "stream",
     "text": [
      "0:00 So hi everyone. Uh today we are going to\n",
      "0:02 talk about our upcoming course. The\n",
      "0:05 upcoming course is called machine\n",
      "0:06 learning zoom camp. And um this is\n",
      "0:10 already I put the link in the\n",
      "0:12 description. So if you're watching um\n",
      "0:14 this video in recording or you're\n",
      "0:17 watching it live, you go here in the\n",
      "0:19 description after under this video and\n",
      "0:21 then you see a link course. uh click on\n",
      "0:25 that link and this bring you will bring\n",
      "0:27 you to\n",
      "0:29 this website this GitHub page.\n",
      "0:34 This GitHub page is the main entry point\n",
      "0:36 to our course and um yeah I think it's\n",
      "0:41 more or less self-explanatory. If you\n",
      "0:43 want to sign up this is the button you\n",
      "0:45 click and the actual course starts in on\n",
      "0:48 September 15th. it means that it's uh\n",
      "0:51 slightly less than one one month before\n",
      "0:53 the course starts and the purpose of\n",
      "0:55 today's um session is to just answer\n",
      "0:58 your questions. So you have some\n",
      "1:00 questions and uh you can ask these\n",
      "1:03 questions using\n"
     ]
    }
   ],
   "source": [
    "print(subtitles[:1000])"
   ]
  },
  {
   "cell_type": "code",
   "execution_count": 21,
   "id": "435791e0-ff3f-438e-a4b8-3accc367ef5f",
   "metadata": {},
   "outputs": [],
   "source": [
    "def sliding_window(seq, size, step):\n",
    "    \"\"\"Create overlapping chunks using sliding window approach.\"\"\"\n",
    "    if size <= 0 or step <= 0:\n",
    "        raise ValueError(\"size and step must be positive\")\n",
    "\n",
    "    n = len(seq)\n",
    "    result = []\n",
    "\n",
    "    for i in range(0, n, step):\n",
    "        batch = seq[i:i+size]\n",
    "        result.append(batch)\n",
    "        if i + size >= n:\n",
    "            break\n",
    "\n",
    "    return result"
   ]
  },
  {
   "cell_type": "code",
   "execution_count": 22,
   "id": "36c16141-08c8-43bd-8dfe-ff99eaf62cef",
   "metadata": {},
   "outputs": [],
   "source": [
    "chunk = transcript[:10]"
   ]
  },
  {
   "cell_type": "code",
   "execution_count": 23,
   "id": "ddd3d0b7-f79a-4117-8265-95ddc2ab51ab",
   "metadata": {},
   "outputs": [],
   "source": [
    "def join_lines(transcript) -> str:\n",
    "    \"\"\"Join transcript entries into continuous text.\"\"\"\n",
    "    lines = []\n",
    "\n",
    "    for entry in transcript:\n",
    "        text = entry.text.replace('\\n', ' ')\n",
    "        lines.append(text)\n",
    "\n",
    "    return ' '.join(lines)\n",
    "\n",
    "\n",
    "def format_chunk(chunk):\n",
    "    \"\"\"Format a chunk with start/end timestamps and text.\"\"\"\n",
    "    time_start = format_timestamp(chunk[0].start)\n",
    "    time_end = format_timestamp(chunk[-1].start)\n",
    "    text = join_lines(chunk)\n",
    "\n",
    "    return {\n",
    "        'start': time_start,\n",
    "        'end': time_end,\n",
    "        'text': text\n",
    "    }"
   ]
  },
  {
   "cell_type": "code",
   "execution_count": 24,
   "id": "f54142af-0d8a-4860-8213-2a4298c6a781",
   "metadata": {
    "scrolled": true
   },
   "outputs": [],
   "source": [
    "chunks = []\n",
    "\n",
    "for chunk in sliding_window(transcript, 60, 30):\n",
    "    processed = format_chunk(chunk)\n",
    "    chunks.append(processed)"
   ]
  },
  {
   "cell_type": "code",
   "execution_count": 25,
   "id": "68290e7a-b5b4-4a70-a315-4d7e6a66eaa6",
   "metadata": {},
   "outputs": [
    {
     "name": "stdout",
     "output_type": "stream",
     "text": [
      "Created 46 chunks\n"
     ]
    }
   ],
   "source": [
    "print(f\"Created {len(chunks)} chunks\")"
   ]
  },
  {
   "cell_type": "code",
   "execution_count": 26,
   "id": "435dab95-629b-4649-9041-28116e37253d",
   "metadata": {},
   "outputs": [
    {
     "data": {
      "text/plain": [
       "<minsearch.minsearch.Index at 0x7333e109b170>"
      ]
     },
     "execution_count": 26,
     "metadata": {},
     "output_type": "execute_result"
    }
   ],
   "source": [
    "from minsearch import Index\n",
    "\n",
    "index = Index(text_fields=[\"text\"])\n",
    "index.fit(chunks)"
   ]
  },
  {
   "cell_type": "code",
   "execution_count": 27,
   "id": "fd9d0415-982d-45df-90a0-7cc7b9f23486",
   "metadata": {},
   "outputs": [],
   "source": [
    "results = index.search('Can I find a job after the course?', num_results=5)"
   ]
  },
  {
   "cell_type": "code",
   "execution_count": 28,
   "id": "6ae543ec-0809-4352-8364-e8f55d7313ef",
   "metadata": {},
   "outputs": [],
   "source": [
    "\n",
    "import json\n",
    "\n",
    "def search(query):\n",
    "    \"\"\"Search for relevant documents.\"\"\"\n",
    "    return index.search(\n",
    "        query=query,\n",
    "        num_results=15\n",
    "    )\n",
    "\n",
    "instructions = \"\"\"\n",
    "Answer the QUESTION based on the CONTEXT from the subtitles of a YouTube video.\n",
    "\n",
    "Use only the facts from the CONTEXT when answering the QUESTION.\n",
    "\n",
    "When answering the question, \n",
    "provide the citation in form of the video URL pointing at the timestamp where\n",
    "this is discussed. If the question is discussed in multiple documents,\n",
    "cite all of them.\n",
    "\n",
    "Don't use markdown or any formatting in the output.\n",
    "\"\"\".strip()\n",
    "\n",
    "prompt_template = \"\"\"\n",
    "<VIDEO_ID>\n",
    "{video_id}\n",
    "</VIDEO_ID>\n",
    "\n",
    "<QUESTION>\n",
    "{question}\n",
    "</QUESTION>\n",
    "\n",
    "<CONTEXT>\n",
    "{context}\n",
    "</CONTEXT>\n",
    "\"\"\".strip()\n",
    "\n",
    "def build_prompt(question, search_results):\n",
    "    context = json.dumps(search_results)\n",
    "    return prompt_template.format(\n",
    "        question=question,\n",
    "        context=context,\n",
    "        video_id=video_id\n",
    "    ).strip()\n",
    "\n",
    "def rag(query):\n",
    "    search_results = search(query)\n",
    "    prompt = build_prompt(query, search_results)\n",
    "    response = llm(prompt, instructions=instructions)\n",
    "    return response"
   ]
  },
  {
   "cell_type": "code",
   "execution_count": 29,
   "id": "5b91dd1e-eaa8-4011-b24b-1cfa07406896",
   "metadata": {},
   "outputs": [
    {
     "name": "stdout",
     "output_type": "stream",
     "text": [
      "Yes, you can find a job after completing the course. The speaker indicates that while the course itself does not provide job placement services, many past participants have successfully found jobs after taking the course. They emphasize that the skills taught are relevant and essential for machine learning engineers. To improve your chances, it is recommended to work on projects and potentially volunteer to build a portfolio, which will help make you more job ready. \n",
      "\n",
      "For further details, you can refer to the video at this timestamp: https://www.youtube.com/watch?v=ph1PxZIkz1o&t=1m21s.\n"
     ]
    }
   ],
   "source": [
    "answer = rag('Can I find a job after the course?')\n",
    "print(answer)"
   ]
  },
  {
   "cell_type": "code",
   "execution_count": null,
   "id": "d8aa95bf-5b27-435e-afe0-f23e609c05a9",
   "metadata": {},
   "outputs": [],
   "source": []
  }
 ],
 "metadata": {
  "kernelspec": {
   "display_name": "Python 3 (ipykernel)",
   "language": "python",
   "name": "python3"
  },
  "language_info": {
   "codemirror_mode": {
    "name": "ipython",
    "version": 3
   },
   "file_extension": ".py",
   "mimetype": "text/x-python",
   "name": "python",
   "nbconvert_exporter": "python",
   "pygments_lexer": "ipython3",
   "version": "3.12.1"
  }
 },
 "nbformat": 4,
 "nbformat_minor": 5
}
