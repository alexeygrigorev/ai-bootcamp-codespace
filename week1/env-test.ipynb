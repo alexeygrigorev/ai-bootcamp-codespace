{
 "cells": [
  {
   "cell_type": "code",
   "execution_count": 1,
   "id": "d5f538f3-ab9b-40ba-adf0-6f1028b8cf01",
   "metadata": {},
   "outputs": [],
   "source": [
    "from openai import OpenAI"
   ]
  },
  {
   "cell_type": "code",
   "execution_count": 2,
   "id": "64022044-47de-4794-9d74-9144f8328a07",
   "metadata": {},
   "outputs": [],
   "source": [
    "openai_client = OpenAI()"
   ]
  },
  {
   "cell_type": "code",
   "execution_count": 3,
   "id": "f5963c71-a1f8-41e0-86b3-2b7daa30b62a",
   "metadata": {},
   "outputs": [
    {
     "name": "stdout",
     "output_type": "stream",
     "text": [
      "Once upon a time, in a magical forest where the trees sparkled like diamonds and the flowers sang sweet melodies, there lived a gentle unicorn named Lila. Lila had a shimmering coat of pure white and a mane that flowed like a river of rainbow colors. She loved to spend her days dancing in the meadows and playing hide-and-seek with the woodland creatures.\n",
      "\n",
      "One evening, as the sun began to set, painting the sky in shades of orange and pink, Lila noticed something unusual. A tiny, lost firefly was fluttering about, looking scared and alone. Lila trotted over to the little creature.\n",
      "\n",
      "“Why are you so sad, dear firefly?” she asked softly.\n",
      "\n",
      "“I got separated from my family during the festival,” the firefly replied, his tiny glow dimming with worry.\n",
      "\n",
      "Lila felt a surge of compassion. “Don’t worry! I will help you find your family,” she declared. With a flick of her sparkling horn, she created a soft, glowing path that lit up the way.\n",
      "\n",
      "Together, they journeyed through the forest, Lila’s hooves creating a gentle rhythm that calmed the firefly’s nerves. They passed the babbling brook, where the water sparkled like stars, and climbed up the hill where the wise old owl perched. The owl blinked his big eyes and pointed them in the direction of the firefly’s home.\n",
      "\n",
      "As they climbed higher, the firefly began to glow brighter with hope. “I can see my family in the clearing!” he exclaimed, twinkling joyfully.\n",
      "\n",
      "With one last push, they reached the clearing, filled with glowing fireflies dancing in the twilight. The little firefly buzzed with excitement and flew into the air, rejoining his family with a happy shimmer.\n",
      "\n",
      "“Thank you, Lila!” he called out, his joy lighting up the night sky.\n",
      "\n",
      "Lila smiled, her heart warm with happiness. As the stars twinkled above, she realized that helping others was the greatest magic of all. With a gentle wave of her horn, she sent a shower of sparkles into the air, filling the clearing with light.\n",
      "\n",
      "And so, with a heart full of joy, Lila returned to her meadow, where she fell asleep beneath the starlit sky, dreaming of more adventures to come.\n",
      "\n",
      "And that, dear one, is the magic of kindness. Goodnight and sweet dreams! ✨🦄\n"
     ]
    }
   ],
   "source": [
    "response = openai_client.responses.create(\n",
    "    model=\"gpt-4o-mini\",\n",
    "    input=\"Write a short bedtime story about a unicorn.\"\n",
    ")\n",
    "\n",
    "print(response.output_text)"
   ]
  },
  {
   "cell_type": "code",
   "execution_count": null,
   "id": "03e82eff-3020-4300-b1f0-17a1d2af0fea",
   "metadata": {},
   "outputs": [],
   "source": []
  }
 ],
 "metadata": {
  "kernelspec": {
   "display_name": "Python 3 (ipykernel)",
   "language": "python",
   "name": "python3"
  },
  "language_info": {
   "codemirror_mode": {
    "name": "ipython",
    "version": 3
   },
   "file_extension": ".py",
   "mimetype": "text/x-python",
   "name": "python",
   "nbconvert_exporter": "python",
   "pygments_lexer": "ipython3",
   "version": "3.12.1"
  }
 },
 "nbformat": 4,
 "nbformat_minor": 5
}
